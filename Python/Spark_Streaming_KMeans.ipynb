{
 "cells": [
  {
   "cell_type": "code",
   "execution_count": 1,
   "metadata": {},
   "outputs": [],
   "source": [
    "from pyspark.sql.functions import dayofmonth, month, hour\n",
    "from pyspark.sql.session import SparkSession\n",
    "from pyspark.sql.types import DoubleType, StructType, StructField, TimestampType, StringType\n",
    "from pyspark.ml.feature import VectorAssembler\n",
    "from pyspark.ml.clustering import KMeans\n",
    "import pyspark.sql.functions as func"
   ]
  },
  {
   "cell_type": "code",
   "execution_count": 2,
   "metadata": {},
   "outputs": [],
   "source": [
    "# Initializing Spark Session\n",
    "spark = SparkSession.builder.appName('Spark_Streaming_KMeans').getOrCreate()"
   ]
  },
  {
   "cell_type": "code",
   "execution_count": 3,
   "metadata": {},
   "outputs": [],
   "source": [
    "# Setting up the schema\n",
    "schema = StructType([StructField(\"dt\", TimestampType(), True),\n",
    "                     StructField(\"lat\", DoubleType(), True),\n",
    "                     StructField(\"lon\", DoubleType(), True),\n",
    "                     StructField(\"base\", StringType(), True)]\n",
    "                    )"
   ]
  },
  {
   "cell_type": "code",
   "execution_count": 5,
   "metadata": {},
   "outputs": [
    {
     "name": "stdout",
     "output_type": "stream",
     "text": [
      "+-------------------+-------+--------+------+\n",
      "|                 dt|    lat|     lon|  base|\n",
      "+-------------------+-------+--------+------+\n",
      "|2014-08-01 00:00:00| 40.729|-73.9422|B02598|\n",
      "|2014-08-01 00:00:00|40.7476|-73.9871|B02598|\n",
      "|2014-08-01 00:00:00|40.7424|-74.0044|B02598|\n",
      "|2014-08-01 00:00:00| 40.751|-73.9869|B02598|\n",
      "|2014-08-01 00:00:00|40.7406|-73.9902|B02598|\n",
      "+-------------------+-------+--------+------+\n",
      "only showing top 5 rows\n",
      "\n",
      "Raw Dataset\n"
     ]
    }
   ],
   "source": [
    "# Reading the Data into spark\n",
    "Dataset = spark.read.option(\"inferSchema\", \"false\").schema(schema).csv(\"G:\\\\Data\\\\Input_Streaming_Spark.csv\")\n",
    "Dataset.show(5)\n",
    "print(\"Raw Dataset\")"
   ]
  },
  {
   "cell_type": "code",
   "execution_count": 6,
   "metadata": {},
   "outputs": [],
   "source": [
    "# Defining feature array\n",
    "assembler = VectorAssembler(inputCols=(\"lat\", \"lon\"), outputCol='features')\n",
    "Dataframe = assembler.transform(Dataset)"
   ]
  },
  {
   "cell_type": "code",
   "execution_count": 7,
   "metadata": {},
   "outputs": [
    {
     "name": "stdout",
     "output_type": "stream",
     "text": [
      "+-------------------+-------+--------+------+------------------+\n",
      "|                 dt|    lat|     lon|  base|          features|\n",
      "+-------------------+-------+--------+------+------------------+\n",
      "|2014-08-01 00:00:00| 40.729|-73.9422|B02598| [40.729,-73.9422]|\n",
      "|2014-08-01 00:00:00|40.7476|-73.9871|B02598|[40.7476,-73.9871]|\n",
      "|2014-08-01 00:00:00|40.7424|-74.0044|B02598|[40.7424,-74.0044]|\n",
      "|2014-08-01 00:00:00| 40.751|-73.9869|B02598| [40.751,-73.9869]|\n",
      "|2014-08-01 00:00:00|40.7406|-73.9902|B02598|[40.7406,-73.9902]|\n",
      "|2014-08-01 00:00:00|40.6994|-73.9591|B02617|[40.6994,-73.9591]|\n",
      "|2014-08-01 00:00:00|40.6917|-73.9398|B02617|[40.6917,-73.9398]|\n",
      "|2014-08-01 00:00:00|40.7063|-73.9223|B02617|[40.7063,-73.9223]|\n",
      "|2014-08-01 00:00:00|40.6759|-74.0168|B02617|[40.6759,-74.0168]|\n",
      "|2014-08-01 00:00:00|40.7617|-73.9847|B02617|[40.7617,-73.9847]|\n",
      "|2014-08-01 00:00:00|40.6969|-73.9064|B02617|[40.6969,-73.9064]|\n",
      "|2014-08-01 00:00:00|40.7623|-73.9751|B02617|[40.7623,-73.9751]|\n",
      "|2014-08-01 00:00:00|40.6982|-73.9669|B02617|[40.6982,-73.9669]|\n",
      "|2014-08-01 00:00:00|40.7553|-73.9253|B02617|[40.7553,-73.9253]|\n",
      "|2014-08-01 00:00:00|40.7325|-73.9876|B02682|[40.7325,-73.9876]|\n",
      "|2014-08-01 00:00:00|40.6754| -74.017|B02682| [40.6754,-74.017]|\n",
      "|2014-08-01 00:00:00|40.7303|-74.0029|B02682|[40.7303,-74.0029]|\n",
      "|2014-08-01 00:00:00|40.7218|-73.9973|B02682|[40.7218,-73.9973]|\n",
      "|2014-08-01 00:00:00|40.7134|-74.0091|B02682|[40.7134,-74.0091]|\n",
      "|2014-08-01 00:00:00|40.7194|-73.9964|B02682|[40.7194,-73.9964]|\n",
      "+-------------------+-------+--------+------+------------------+\n",
      "only showing top 20 rows\n",
      "\n",
      "Dataset with feature\n"
     ]
    }
   ],
   "source": [
    "# Dataset with feature\n",
    "Dataframe.show()\n",
    "print(\"Dataset with feature\")"
   ]
  },
  {
   "cell_type": "code",
   "execution_count": 8,
   "metadata": {},
   "outputs": [],
   "source": [
    "# setting K means k = 20 and Max Iteration to 5\n",
    "kmeans = KMeans().setK(20).setMaxIter(5)\n"
   ]
  },
  {
   "cell_type": "code",
   "execution_count": 9,
   "metadata": {},
   "outputs": [],
   "source": [
    "# fitting out features into K means\n",
    "model = kmeans.fit(Dataframe.select('features'))"
   ]
  },
  {
   "cell_type": "code",
   "execution_count": 10,
   "metadata": {},
   "outputs": [],
   "source": [
    "# Save your model\n",
    "# model.save(\"F:\\\\kMeans\")\n"
   ]
  },
  {
   "cell_type": "code",
   "execution_count": 12,
   "metadata": {},
   "outputs": [
    {
     "name": "stdout",
     "output_type": "stream",
     "text": [
      "+-------------------+-------+--------+------+------------------+----------+\n",
      "|                 dt|    lat|     lon|  base|          features|prediction|\n",
      "+-------------------+-------+--------+------+------------------+----------+\n",
      "|2014-08-01 00:00:00| 40.729|-73.9422|B02598| [40.729,-73.9422]|         2|\n",
      "|2014-08-01 00:00:00|40.7476|-73.9871|B02598|[40.7476,-73.9871]|        17|\n",
      "|2014-08-01 00:00:00|40.7424|-74.0044|B02598|[40.7424,-74.0044]|        16|\n",
      "|2014-08-01 00:00:00| 40.751|-73.9869|B02598| [40.751,-73.9869]|        17|\n",
      "|2014-08-01 00:00:00|40.7406|-73.9902|B02598|[40.7406,-73.9902]|        17|\n",
      "|2014-08-01 00:00:00|40.6994|-73.9591|B02617|[40.6994,-73.9591]|         2|\n",
      "|2014-08-01 00:00:00|40.6917|-73.9398|B02617|[40.6917,-73.9398]|         2|\n",
      "|2014-08-01 00:00:00|40.7063|-73.9223|B02617|[40.7063,-73.9223]|         2|\n",
      "|2014-08-01 00:00:00|40.6759|-74.0168|B02617|[40.6759,-74.0168]|        12|\n",
      "|2014-08-01 00:00:00|40.7617|-73.9847|B02617|[40.7617,-73.9847]|        13|\n",
      "|2014-08-01 00:00:00|40.6969|-73.9064|B02617|[40.6969,-73.9064]|         2|\n",
      "|2014-08-01 00:00:00|40.7623|-73.9751|B02617|[40.7623,-73.9751]|        13|\n",
      "|2014-08-01 00:00:00|40.6982|-73.9669|B02617|[40.6982,-73.9669]|         2|\n",
      "|2014-08-01 00:00:00|40.7553|-73.9253|B02617|[40.7553,-73.9253]|         5|\n",
      "|2014-08-01 00:00:00|40.7325|-73.9876|B02682|[40.7325,-73.9876]|         1|\n",
      "|2014-08-01 00:00:00|40.6754| -74.017|B02682| [40.6754,-74.017]|        12|\n",
      "|2014-08-01 00:00:00|40.7303|-74.0029|B02682|[40.7303,-74.0029]|        16|\n",
      "|2014-08-01 00:00:00|40.7218|-73.9973|B02682|[40.7218,-73.9973]|         1|\n",
      "|2014-08-01 00:00:00|40.7134|-74.0091|B02682|[40.7134,-74.0091]|        12|\n",
      "|2014-08-01 00:00:00|40.7194|-73.9964|B02682|[40.7194,-73.9964]|         1|\n",
      "+-------------------+-------+--------+------+------------------+----------+\n",
      "only showing top 20 rows\n",
      "\n",
      "K means predictions\n"
     ]
    }
   ],
   "source": [
    "# Adding the prediction from K means to the Dataset\n",
    "clusters = model.transform(Dataframe)\n",
    "clusters.show()\n",
    "print(\"K means predictions\")"
   ]
  },
  {
   "cell_type": "code",
   "execution_count": null,
   "metadata": {},
   "outputs": [],
   "source": [
    "clusters.select(month(\"dt\").alias(\"month\"), dayofmonth(\"dt\").alias(\"day\"), hour(\"dt\").alias(\n",
    "    \"hour\"), \"prediction\").groupBy(\"month\", \"day\", \"hour\", \"prediction\").agg(\n",
    "    func.count(\"prediction\").alias(\"count\")).orderBy(\"day\", \"hour\", \"prediction\").show()\n",
    "print(\"Count Total\")"
   ]
  },
  {
   "cell_type": "code",
   "execution_count": null,
   "metadata": {},
   "outputs": [],
   "source": [
    "clusters.select(hour(\"dt\").alias(\"hour\"), \"prediction\").groupBy(\"hour\", \"prediction\").agg(\n",
    "    func.count(\"prediction\").alias(\"count\")).orderBy(\n",
    "    func.desc(\"count\")).show()\n",
    "print(\"Count Total ordered by count\")"
   ]
  },
  {
   "cell_type": "code",
   "execution_count": null,
   "metadata": {},
   "outputs": [],
   "source": [
    "clusters.groupBy(\"prediction\").count().show()\n",
    "print(\"Counts in each cluster\")"
   ]
  },
  {
   "cell_type": "code",
   "execution_count": null,
   "metadata": {},
   "outputs": [],
   "source": []
  }
 ],
 "metadata": {
  "kernelspec": {
   "display_name": "Python 3",
   "language": "python",
   "name": "python3"
  },
  "language_info": {
   "codemirror_mode": {
    "name": "ipython",
    "version": 3
   },
   "file_extension": ".py",
   "mimetype": "text/x-python",
   "name": "python",
   "nbconvert_exporter": "python",
   "pygments_lexer": "ipython3",
   "version": "3.6.4"
  }
 },
 "nbformat": 4,
 "nbformat_minor": 2
}
